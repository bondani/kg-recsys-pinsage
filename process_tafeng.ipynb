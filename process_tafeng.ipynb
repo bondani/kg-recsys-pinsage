{
 "cells": [
  {
   "cell_type": "code",
   "execution_count": 1,
   "id": "6997c1f2",
   "metadata": {},
   "outputs": [
    {
     "name": "stderr",
     "output_type": "stream",
     "text": [
      "/media/joel/DE18449A184473951/projects/nastya/data_utils.py:37: UserWarning: `meta` is not specified, inferred from partial data. Please provide `meta` if the result is unexpected.\n",
      "  Before: .apply(func)\n",
      "  After:  .apply(func, meta={'x': 'f8', 'y': 'f8'}) for dataframe result\n",
      "  or:     .apply(func, meta=('x', 'f8'))            for series result\n",
      "  df = df.groupby(user, group_keys=False).apply(train_test_split).compute(scheduler='processes').sort_index()\n"
     ]
    },
    {
     "name": "stdout",
     "output_type": "stream",
     "text": [
      "        CUSTOMER_ID     PRODUCT_ID  TRANSACTION_DT_cat  train_mask  val_mask  \\\n",
      "0           1104905  4710199010372                   0        True     False   \n",
      "502         1104905  4710160001071                   0        True     False   \n",
      "451         1104905  4710047502011                   0        True     False   \n",
      "449         1104905  4711524000396                   0        True     False   \n",
      "394         1104905  4710247006562                   0        True     False   \n",
      "...             ...            ...                 ...         ...       ...   \n",
      "779727      1104905  4710008290094                 115       False     False   \n",
      "778073      1104905  4719090900058                 115       False     False   \n",
      "778485      1104905  4710199010778                 115       False     False   \n",
      "778898      1104905  4710104112924                 115       False     False   \n",
      "779731      1104905       20433895                 115       False     False   \n",
      "\n",
      "        test_mask  \n",
      "0           False  \n",
      "502         False  \n",
      "451         False  \n",
      "449         False  \n",
      "394         False  \n",
      "...           ...  \n",
      "779727       True  \n",
      "778073       True  \n",
      "778485       True  \n",
      "778898       True  \n",
      "779731       True  \n",
      "\n",
      "[97 rows x 6 columns]\n"
     ]
    },
    {
     "name": "stderr",
     "output_type": "stream",
     "text": [
      "/media/joel/DE18449A184473951/projects/nastya/venv/lib/python3.9/site-packages/dgl/subgraph.py:288: DGLWarning: Key word argument preserve_nodes is deprecated. Use relabel_nodes instead.\n",
      "  dgl_warning(\n"
     ]
    }
   ],
   "source": [
    "%run process_tafeng.py data/tafeng/ta_feng_all_months_merged.csv data/tafeng.pkl"
   ]
  },
  {
   "cell_type": "code",
   "execution_count": null,
   "id": "c3437365",
   "metadata": {},
   "outputs": [],
   "source": []
  }
 ],
 "metadata": {
  "kernelspec": {
   "display_name": "Python 3 (ipykernel)",
   "language": "python",
   "name": "python3"
  },
  "language_info": {
   "codemirror_mode": {
    "name": "ipython",
    "version": 3
   },
   "file_extension": ".py",
   "mimetype": "text/x-python",
   "name": "python",
   "nbconvert_exporter": "python",
   "pygments_lexer": "ipython3",
   "version": "3.9.2"
  }
 },
 "nbformat": 4,
 "nbformat_minor": 5
}
