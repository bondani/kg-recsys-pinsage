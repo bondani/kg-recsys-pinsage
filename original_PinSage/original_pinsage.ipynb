{
 "cells": [
  {
   "cell_type": "markdown",
   "id": "38415732",
   "metadata": {},
   "source": [
    "MovieLens"
   ]
  },
  {
   "cell_type": "code",
   "execution_count": 1,
   "id": "dd7c88a1",
   "metadata": {},
   "outputs": [
    {
     "name": "stderr",
     "output_type": "stream",
     "text": [
      "100%|█████████████████████████████████████████████████████████████████████████████████████████████████████████████████████████████████| 10000/10000 [08:35<00:00, 19.40it/s]\n"
     ]
    },
    {
     "name": "stdout",
     "output_type": "stream",
     "text": [
      "Rec by latest item (0.11009105960264914, 0.09534846097726918, 0.3789132400072751) \n",
      " Rec by N latest items (0.11365066225165543, 0.09487876941780816, 0.3850010553466239)\n"
     ]
    },
    {
     "name": "stderr",
     "output_type": "stream",
     "text": [
      "100%|█████████████████████████████████████████████████████████████████████████████████████████████████████████████████████████████████| 10000/10000 [07:38<00:00, 21.79it/s]\n"
     ]
    },
    {
     "name": "stdout",
     "output_type": "stream",
     "text": [
      "Early stopping\n",
      "RESULT\n",
      "Epoch 1, Rec by latest item: PR@1: 0.1369205298013245|REC@1: 0.006651787439219391|NDCG@1: 0.019205298013245033\n",
      "Epoch 1, Rec by 10 latest items: PR@1: 0.12814569536423842|REC@1: 0.005233422981423183|NDCG@1: 0.016887417218543047\n",
      "Epoch 1, Rec by latest item: PR@5: 0.12099337748344477|REC@5: 0.028499316458325236|NDCG@5: 0.12448010211260178\n",
      "Epoch 1, Rec by 10 latest items: PR@5: 0.12039735099337855|REC@5: 0.027068167891004632|NDCG@5: 0.12139656767705477\n",
      "Epoch 1, Rec by latest item: PR@10: 0.11516556291391089|REC@10: 0.053396841800427745|NDCG@10: 0.22989382405161568\n",
      "Epoch 1, Rec by 10 latest items: PR@10: 0.11667218543046742|REC@10: 0.051051937686889426|NDCG@10: 0.2325770126811788\n",
      "Epoch 1, Rec by latest item: PR@15: 0.1093267108167788|REC@15: 0.07462426857251815|NDCG@15: 0.30088484334808585\n",
      "Epoch 1, Rec by 10 latest items: PR@15: 0.11162251655629321|REC@15: 0.07240819878121617|NDCG@15: 0.3093703678773006\n",
      "Epoch 1, Rec by latest item: PR@20: 0.10484271523178865|REC@20: 0.09331355097336479|NDCG@20: 0.3593543574437782\n",
      "Epoch 1, Rec by 10 latest items: PR@20: 0.10799668874172219|REC@20: 0.09240965702866683|NDCG@20: 0.36248693587150915\n"
     ]
    }
   ],
   "source": [
    "%run model.py data/data_ml.pkl models/model_ml_optuna --num-neighbors 6 --hidden-dims 50 --batch-size 64 --num-epochs 10 --batches-per-epoch 10000 --device 'cuda' --k 20 --n_latest_items 10 --lr 0.0008057 --num-layers 1"
   ]
  },
  {
   "cell_type": "markdown",
   "id": "17c86e09",
   "metadata": {},
   "source": [
    "Ta Feng"
   ]
  },
  {
   "cell_type": "code",
   "execution_count": 2,
   "id": "fea83498",
   "metadata": {},
   "outputs": [
    {
     "name": "stderr",
     "output_type": "stream",
     "text": [
      "100%|█████████████████████████████████████████████████████████████████████████████████████████████████████████████████████████████████| 10000/10000 [11:26<00:00, 14.57it/s]\n"
     ]
    },
    {
     "name": "stdout",
     "output_type": "stream",
     "text": [
      "Rec by latest item (0.00850074051570322, 0.03689583075493508, 0.010175247100126841) \n",
      " Rec by N latest items (0.008502639273915352, 0.03700450632169157, 0.010204821268837996)\n"
     ]
    },
    {
     "name": "stderr",
     "output_type": "stream",
     "text": [
      "100%|█████████████████████████████████████████████████████████████████████████████████████████████████████████████████████████████████| 10000/10000 [11:32<00:00, 14.43it/s]\n"
     ]
    },
    {
     "name": "stdout",
     "output_type": "stream",
     "text": [
      "Rec by latest item (0.009387460600767736, 0.04056276301989869, 0.012001744686258042) \n",
      " Rec by N latest items (0.009351384194737277, 0.040802107537860545, 0.011966278564840047)\n"
     ]
    },
    {
     "name": "stderr",
     "output_type": "stream",
     "text": [
      "100%|█████████████████████████████████████████████████████████████████████████████████████████████████████████████████████████████████| 10000/10000 [09:55<00:00, 16.80it/s]\n"
     ]
    },
    {
     "name": "stdout",
     "output_type": "stream",
     "text": [
      "Rec by latest item (0.010103292446740606, 0.0438649585632534, 0.013413360453692976) \n",
      " Rec by N latest items (0.01010708996316487, 0.0439817387901628, 0.01388635379760147)\n"
     ]
    },
    {
     "name": "stderr",
     "output_type": "stream",
     "text": [
      "100%|█████████████████████████████████████████████████████████████████████████████████████████████████████████████████████████████████| 10000/10000 [10:29<00:00, 15.88it/s]\n"
     ]
    },
    {
     "name": "stdout",
     "output_type": "stream",
     "text": [
      "Rec by latest item (0.010167850225953004, 0.04481770407410991, 0.01353629636274641) \n",
      " Rec by N latest items (0.010230509246953286, 0.044926433286094525, 0.013740970382404996)\n"
     ]
    },
    {
     "name": "stderr",
     "output_type": "stream",
     "text": [
      "100%|█████████████████████████████████████████████████████████████████████████████████████████████████████████████████████████████████| 10000/10000 [10:29<00:00, 15.88it/s]\n"
     ]
    },
    {
     "name": "stdout",
     "output_type": "stream",
     "text": [
      "Rec by latest item (0.010724186382106978, 0.046638803201233085, 0.01461534533835136) \n",
      " Rec by N latest items (0.010864694489804587, 0.04714722729992804, 0.014954338400323853)\n"
     ]
    },
    {
     "name": "stderr",
     "output_type": "stream",
     "text": [
      "100%|█████████████████████████████████████████████████████████████████████████████████████████████████████████████████████████████████| 10000/10000 [10:27<00:00, 15.94it/s]\n"
     ]
    },
    {
     "name": "stdout",
     "output_type": "stream",
     "text": [
      "Rec by latest item (0.010524816769833367, 0.04507948231804625, 0.014096851432370609) \n",
      " Rec by N latest items (0.01056089317586384, 0.045157458110885694, 0.015012046448440319)\n"
     ]
    },
    {
     "name": "stderr",
     "output_type": "stream",
     "text": [
      "100%|█████████████████████████████████████████████████████████████████████████████████████████████████████████████████████████████████| 10000/10000 [10:31<00:00, 15.83it/s]\n"
     ]
    },
    {
     "name": "stdout",
     "output_type": "stream",
     "text": [
      "Rec by latest item (0.010304560817226345, 0.045539610946819076, 0.014570041003066563) \n",
      " Rec by N latest items (0.010399498727832813, 0.045835743238924365, 0.014940166563339723)\n",
      "RESULT\n",
      "Epoch 6, Rec by latest item: PR@1: 0.027380093418904038|REC@1: 0.006850535672237238|NDCG@1: 0.0004557019709110242\n",
      "Epoch 6, Rec by 10 latest items: PR@1: 0.027797820225572475|REC@1: 0.00695587989520004|NDCG@1: 0.0002278509854555121\n",
      "Epoch 6, Rec by latest item: PR@5: 0.016777427562373624|REC@5: 0.020240267301386377|NDCG@5: 0.003965218841408226\n",
      "Epoch 6, Rec by 10 latest items: PR@5: 0.0167622374966766|REC@5: 0.02013992572793|NDCG@5: 0.0037308476205823596\n",
      "Epoch 6, Rec by latest item: PR@10: 0.012816617931872797|REC@10: 0.02899439221374549|NDCG@10: 0.00719081428094553\n",
      "Epoch 6, Rec by 10 latest items: PR@10: 0.01298750617096445|REC@10: 0.029282079889446675|NDCG@10: 0.0077142640169114065\n",
      "Epoch 6, Rec by latest item: PR@15: 0.011286218812895966|REC@15: 0.03734691303514046|NDCG@15: 0.01071648857898313\n",
      "Epoch 6, Rec by 10 latest items: PR@15: 0.011278623780047445|REC@15: 0.03731695716130274|NDCG@15: 0.011177844045946043\n",
      "Epoch 6, Rec by latest item: PR@20: 0.010304560817226345|REC@20: 0.045539610946819076|NDCG@20: 0.014570041003066563\n",
      "Epoch 6, Rec by 10 latest items: PR@20: 0.010399498727832813|REC@20: 0.045835743238924365|NDCG@20: 0.014940166563339723\n"
     ]
    }
   ],
   "source": [
    "%run model.py data/tafeng.pkl models/model_tafeng_optuna --num-neighbors 6 --hidden-dims 68 --batch-size 64 --num-epochs 7 --batches-per-epoch 10000 --device 'cuda' --k 20  --n_latest_items 10 --num-layers 3 --lr 0.000135177"
   ]
  },
  {
   "cell_type": "markdown",
   "id": "a713861f",
   "metadata": {},
   "source": [
    "Amazon"
   ]
  },
  {
   "cell_type": "code",
   "execution_count": 3,
   "id": "265363e6",
   "metadata": {},
   "outputs": [
    {
     "name": "stderr",
     "output_type": "stream",
     "text": [
      "100%|█████████████████████████████████████████████████████████████████████████████████████████████████████████████████████████████████| 10000/10000 [16:27<00:00, 10.12it/s]\n"
     ]
    },
    {
     "name": "stdout",
     "output_type": "stream",
     "text": [
      "Rec by latest item (0.007702395091053046, 0.06010025605113395, 0.007920590483783477) \n",
      " Rec by N latest items (0.006878463974663373, 0.052322674160088206, 0.006633069653016567)\n"
     ]
    },
    {
     "name": "stderr",
     "output_type": "stream",
     "text": [
      "100%|█████████████████████████████████████████████████████████████████████████████████████████████████████████████████████████████████| 10000/10000 [15:32<00:00, 10.72it/s]\n"
     ]
    },
    {
     "name": "stdout",
     "output_type": "stream",
     "text": [
      "Early stopping\n",
      "RESULT\n",
      "Epoch 1, Rec by latest item: PR@1: 0.014895091053048298|REC@1: 0.006037550316756753|NDCG@1: 9.897070467141726e-05\n",
      "Epoch 1, Rec by 10 latest items: PR@1: 0.009946555819477435|REC@1: 0.004026303918673277|NDCG@1: 9.897070467141726e-05\n",
      "Epoch 1, Rec by latest item: PR@5: 0.010807600950118628|REC@5: 0.022019232211565536|NDCG@5: 0.0014435564821678102\n",
      "Epoch 1, Rec by 10 latest items: PR@5: 0.008857878068091796|REC@5: 0.017108105990192093|NDCG@5: 0.0009468090729925561\n",
      "Epoch 1, Rec by latest item: PR@10: 0.009070665083135133|REC@10: 0.0363701391773573|NDCG@10: 0.003261807134301493\n",
      "Epoch 1, Rec by 10 latest items: PR@10: 0.007972090261282469|REC@10: 0.030273547018381898|NDCG@10: 0.002464397945970148\n",
      "Epoch 1, Rec by latest item: PR@15: 0.00798033782000514|REC@15: 0.047183893104455046|NDCG@15: 0.004851028963891154\n",
      "Epoch 1, Rec by 10 latest items: PR@15: 0.007218263394035275|REC@15: 0.040973480849119635|NDCG@15: 0.003924898214745587\n",
      "Epoch 1, Rec by latest item: PR@20: 0.00727434679334909|REC@20: 0.057067353570579876|NDCG@20: 0.00662322224048284\n",
      "Epoch 1, Rec by 10 latest items: PR@20: 0.006737430720506575|REC@20: 0.050919320838957186|NDCG@20: 0.005425262478522469\n"
     ]
    }
   ],
   "source": [
    "%run model.py data/amazon.pkl models/model_amazon_optuna --num-neighbors 11 --hidden-dims 131 --batch-size 64 --num-epochs 10 --batches-per-epoch 10000 --device 'cuda' --k 20  --n_latest_items 10 --num-layers 3 --lr 0.00066586"
   ]
  },
  {
   "cell_type": "code",
   "execution_count": null,
   "id": "9145e90a",
   "metadata": {},
   "outputs": [],
   "source": []
  }
 ],
 "metadata": {
  "kernelspec": {
   "display_name": "Python 3 (ipykernel)",
   "language": "python",
   "name": "python3"
  },
  "language_info": {
   "codemirror_mode": {
    "name": "ipython",
    "version": 3
   },
   "file_extension": ".py",
   "mimetype": "text/x-python",
   "name": "python",
   "nbconvert_exporter": "python",
   "pygments_lexer": "ipython3",
   "version": "3.9.2"
  }
 },
 "nbformat": 4,
 "nbformat_minor": 5
}
