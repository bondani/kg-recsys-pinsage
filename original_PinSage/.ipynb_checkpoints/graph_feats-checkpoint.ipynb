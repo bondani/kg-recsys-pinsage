{
 "cells": [
  {
   "cell_type": "code",
   "execution_count": 2,
   "id": "5e5f0dcd",
   "metadata": {},
   "outputs": [],
   "source": [
    "import pickle\n",
    "import argparse\n",
    "import numpy as np\n",
    "import torch\n",
    "import torch.nn as nn\n",
    "from torch.utils.data import DataLoader\n",
    "from torchtext.legacy import data\n",
    "import dgl\n",
    "import tqdm\n",
    "\n",
    "import layers\n",
    "import sampler as sampler_module\n",
    "import evaluation\n",
    "from model import *"
   ]
  },
  {
   "cell_type": "code",
   "execution_count": 3,
   "id": "2dbda497",
   "metadata": {},
   "outputs": [],
   "source": [
    "from dataclasses import dataclass\n",
    "\n",
    "@dataclass\n",
    "class TrainArgs:\n",
    "    output_model_path: str\n",
    "    random_walk_length: int = 2\n",
    "    random_walk_restart_prob: float = 0.5\n",
    "    num_random_walks: int = 10\n",
    "    num_neighbors: int = 5\n",
    "    num_layers: int = 2\n",
    "    hidden_dims: int = 16\n",
    "    batch_size: int = 64\n",
    "    device: str = 'cpu'\n",
    "    num_epochs: int = 1\n",
    "    batches_per_epoch: int = 10000\n",
    "    num_workers: int = 0\n",
    "    lr: float = 3e-5\n",
    "    k: int = 10\n",
    "    n_latest_items: int = 10"
   ]
  },
  {
   "cell_type": "markdown",
   "id": "c9d25e5e",
   "metadata": {},
   "source": [
    "ML-1m"
   ]
  },
  {
   "cell_type": "code",
   "execution_count": 3,
   "id": "3fb888b2",
   "metadata": {},
   "outputs": [],
   "source": [
    "with open('data/data_ml.pkl', 'rb') as f:\n",
    "    dataset = pickle.load(f)"
   ]
  },
  {
   "cell_type": "code",
   "execution_count": 4,
   "id": "9cb0ab92",
   "metadata": {},
   "outputs": [],
   "source": [
    "user_adj = dataset['train-graph'].adj(scipy_fmt='coo', etype=dataset['user-to-item-type']).toarray()\n",
    "dataset['train-graph'].nodes['user'].data['adj'] = torch.FloatTensor(user_adj)\n",
    "dataset['train-graph'].nodes['user'].data['degree'] = torch.LongTensor(user_adj.sum(axis=1))\n",
    "\n",
    "item_adj = dataset['train-graph'].adj(scipy_fmt='coo', etype=dataset['item-to-user-type']).toarray()\n",
    "dataset['train-graph'].nodes['movie'].data['adj'] = torch.FloatTensor(item_adj)\n",
    "dataset['train-graph'].nodes['movie'].data['degree'] = torch.LongTensor(item_adj.sum(axis=1))"
   ]
  },
  {
   "cell_type": "code",
   "execution_count": 5,
   "id": "f6c38f9e",
   "metadata": {},
   "outputs": [],
   "source": [
    "args = TrainArgs(output_model_path = 'models_gen_features/model_ml',\n",
    "                 num_neighbors = 6,\n",
    "                 hidden_dims = 50,\n",
    "                 batch_size = 64,\n",
    "                 num_epochs = 2,\n",
    "                 k = 20,\n",
    "                 num_layers = 1,\n",
    "                 batches_per_epoch = 10000,\n",
    "                 device = 'cuda',\n",
    "                 n_latest_items = 10,\n",
    "                 lr = 0.0008057)"
   ]
  },
  {
   "cell_type": "code",
   "execution_count": 6,
   "id": "e6d60587",
   "metadata": {},
   "outputs": [
    {
     "name": "stderr",
     "output_type": "stream",
     "text": [
      "100%|█████████████████████████████████████████████████████████████████████████████████████████████████████████████████████████████████| 10000/10000 [05:43<00:00, 29.07it/s]\n"
     ]
    },
    {
     "name": "stdout",
     "output_type": "stream",
     "text": [
      "Rec by latest item (0.08772350993377676, 0.07912824644171329, 0.2901599306733959) \n",
      " Rec by N latest items (0.09483443708609389, 0.08203526719824232, 0.311434122070666)\n"
     ]
    },
    {
     "name": "stderr",
     "output_type": "stream",
     "text": [
      "100%|█████████████████████████████████████████████████████████████████████████████████████████████████████████████████████████████████| 10000/10000 [05:34<00:00, 29.86it/s]\n"
     ]
    },
    {
     "name": "stdout",
     "output_type": "stream",
     "text": [
      "Rec by latest item (0.09400662251655742, 0.07879238970342181, 0.29620124163425915) \n",
      " Rec by N latest items (0.09908940397351068, 0.08154589990666435, 0.2926982094505844)\n",
      "RESULT\n",
      "Epoch 1, Rec by latest item: PR@1: 0.11456953642384106|REC@1: 0.0046649356547495795|NDCG@1: 0.017218543046357615\n",
      "Epoch 1, Rec by 10 latest items: PR@1: 0.11241721854304636|REC@1: 0.00467687176325284|NDCG@1: 0.012913907284768211\n",
      "Epoch 1, Rec by latest item: PR@5: 0.10910596026490109|REC@5: 0.022983010795197018|NDCG@5: 0.09699215640546625\n",
      "Epoch 1, Rec by 10 latest items: PR@5: 0.1099337748344378|REC@5: 0.022421286392241946|NDCG@5: 0.10111698672342864\n",
      "Epoch 1, Rec by latest item: PR@10: 0.1037417218543075|REC@10: 0.04394383829454656|NDCG@10: 0.18324194912458058\n",
      "Epoch 1, Rec by 10 latest items: PR@10: 0.1067715231788107|REC@10: 0.044338759262031645|NDCG@10: 0.17911162919504287\n",
      "Epoch 1, Rec by latest item: PR@15: 0.09814569536423827|REC@15: 0.0618238893394605|NDCG@15: 0.24271703633237848\n",
      "Epoch 1, Rec by 10 latest items: PR@15: 0.10284768211920572|REC@15: 0.06385114198803253|NDCG@15: 0.24645608899396812\n",
      "Epoch 1, Rec by latest item: PR@20: 0.09400662251655742|REC@20: 0.07879238970342181|NDCG@20: 0.29620124163425915\n",
      "Epoch 1, Rec by 10 latest items: PR@20: 0.09908940397351068|REC@20: 0.08154589990666435|NDCG@20: 0.2926982094505844\n"
     ]
    }
   ],
   "source": [
    "train(dataset, args)"
   ]
  },
  {
   "cell_type": "markdown",
   "id": "50300d95",
   "metadata": {},
   "source": [
    "Ta Feng"
   ]
  },
  {
   "cell_type": "code",
   "execution_count": 3,
   "id": "01822088",
   "metadata": {},
   "outputs": [],
   "source": [
    "with open('data/tafeng.pkl', 'rb') as f:\n",
    "    dataset = pickle.load(f)"
   ]
  },
  {
   "cell_type": "code",
   "execution_count": 4,
   "id": "9d1e206e",
   "metadata": {},
   "outputs": [],
   "source": [
    "user_adj = dataset['train-graph'].adj(scipy_fmt='coo', etype=dataset['user-to-item-type']).toarray()\n",
    "dataset['train-graph'].nodes['customer'].data['adj'] = torch.FloatTensor(user_adj)\n",
    "dataset['train-graph'].nodes['customer'].data['degree'] = torch.LongTensor(user_adj.sum(axis=1))\n",
    "\n",
    "item_adj = dataset['train-graph'].adj(scipy_fmt='coo', etype=dataset['item-to-user-type']).toarray()\n",
    "dataset['train-graph'].nodes['product'].data['adj'] = torch.FloatTensor(item_adj)\n",
    "dataset['train-graph'].nodes['product'].data['degree'] = torch.LongTensor(item_adj.sum(axis=1))\n",
    "\n",
    "del user_adj, item_adj"
   ]
  },
  {
   "cell_type": "code",
   "execution_count": 5,
   "id": "43f18c18",
   "metadata": {},
   "outputs": [],
   "source": [
    "args = TrainArgs(output_model_path = 'models_gen_features/model_tafeng',\n",
    "                 num_neighbors = 6,\n",
    "                 hidden_dims = 68,\n",
    "                 batch_size = 64,\n",
    "                 num_epochs = 7,\n",
    "                 k = 20,\n",
    "                 num_layers = 2,\n",
    "                 batches_per_epoch = 10000,\n",
    "                 device = 'cuda',\n",
    "                 n_latest_items = 10,\n",
    "                 lr = 0.000135177)"
   ]
  },
  {
   "cell_type": "code",
   "execution_count": null,
   "id": "3b74d381",
   "metadata": {},
   "outputs": [
    {
     "name": "stderr",
     "output_type": "stream",
     "text": [
      "  0%|                                                                                                                                  | 1/10000 [00:05<15:36:40,  5.62s/it]"
     ]
    }
   ],
   "source": [
    "train(dataset, args)"
   ]
  },
  {
   "cell_type": "markdown",
   "id": "2c5f2ddc",
   "metadata": {},
   "source": [
    "Amazon Video Games"
   ]
  },
  {
   "cell_type": "code",
   "execution_count": 4,
   "id": "008197d1",
   "metadata": {},
   "outputs": [],
   "source": [
    "with open('data/amazon.pkl', 'rb') as f:\n",
    "    dataset = pickle.load(f)"
   ]
  },
  {
   "cell_type": "code",
   "execution_count": 5,
   "id": "197798d8",
   "metadata": {},
   "outputs": [],
   "source": [
    "user_adj = dataset['train-graph'].adj(scipy_fmt='coo', etype=dataset['user-to-item-type']).toarray()\n",
    "dataset['train-graph'].nodes['customer'].data['adj'] = torch.FloatTensor(user_adj)\n",
    "dataset['train-graph'].nodes['customer'].data['degree'] = torch.LongTensor(user_adj.sum(axis=1))\n",
    "\n",
    "item_adj = dataset['train-graph'].adj(scipy_fmt='coo', etype=dataset['item-to-user-type']).toarray()\n",
    "dataset['train-graph'].nodes['product'].data['adj'] = torch.FloatTensor(item_adj)\n",
    "dataset['train-graph'].nodes['product'].data['degree'] = torch.LongTensor(item_adj.sum(axis=1))\n",
    "\n",
    "del user_adj, item_adj"
   ]
  },
  {
   "cell_type": "code",
   "execution_count": 8,
   "id": "1eb82f04",
   "metadata": {},
   "outputs": [],
   "source": [
    "args = TrainArgs(output_model_path = 'models_gen_features/model_tafeng',\n",
    "                 num_neighbors = 11,\n",
    "                 hidden_dims = 131,\n",
    "                 batch_size = 64,\n",
    "                 num_epochs = 2,\n",
    "                 k = 20,\n",
    "                 num_layers = 1,\n",
    "                 batches_per_epoch = 10000,\n",
    "                 device = 'cuda',\n",
    "                 n_latest_items = 10,\n",
    "                 lr = 0.00066586)"
   ]
  },
  {
   "cell_type": "code",
   "execution_count": 9,
   "id": "eca5f7a6",
   "metadata": {},
   "outputs": [
    {
     "name": "stderr",
     "output_type": "stream",
     "text": [
      "100%|█████████████████████████████████████████████████████████████████████████████████████████████████████████████████████████████████| 10000/10000 [14:53<00:00, 11.20it/s]\n"
     ]
    },
    {
     "name": "stdout",
     "output_type": "stream",
     "text": [
      "Rec by latest item (0.005675969912905612, 0.04060238224080806, 0.004385516014173432) \n",
      " Rec by N latest items (0.005576999208234203, 0.039191777760323905, 0.003306749583319696)\n"
     ]
    },
    {
     "name": "stderr",
     "output_type": "stream",
     "text": [
      "100%|█████████████████████████████████████████████████████████████████████████████████████████████████████████████████████████████████| 10000/10000 [15:22<00:00, 10.84it/s]\n"
     ]
    },
    {
     "name": "stdout",
     "output_type": "stream",
     "text": [
      "Rec by latest item (0.005584422011084555, 0.03970387366588802, 0.0038871441991331374) \n",
      " Rec by N latest items (0.005574524940617414, 0.039169891650685476, 0.003736355034419339)\n",
      "RESULT\n",
      "Epoch 1, Rec by latest item: PR@1: 0.007125890736342043|REC@1: 0.002509207274646705|NDCG@1: 0.0\n",
      "Epoch 1, Rec by 10 latest items: PR@1: 0.006383610451306413|REC@1: 0.0020656207191242816|NDCG@1: 0.0\n",
      "Epoch 1, Rec by latest item: PR@5: 0.00733372921615204|REC@5: 0.013552521244464455|NDCG@5: 0.0006295540405407765\n",
      "Epoch 1, Rec by 10 latest items: PR@5: 0.007076405384006361|REC@5: 0.01241376622068771|NDCG@5: 0.0006429134401433299\n",
      "Epoch 1, Rec by latest item: PR@10: 0.006299485352335634|REC@10: 0.0227514676501216|NDCG@10: 0.0016114708310950192\n",
      "Epoch 1, Rec by 10 latest items: PR@10: 0.006373713380839195|REC@10: 0.022263986558265697|NDCG@10: 0.001718093444287966\n",
      "Epoch 1, Rec by latest item: PR@15: 0.005826075481657415|REC@15: 0.031020675426303188|NDCG@15: 0.002545825755458548\n",
      "Epoch 1, Rec by 10 latest items: PR@15: 0.005855766693058841|REC@15: 0.030663101099527097|NDCG@15: 0.0026322818616524627\n",
      "Epoch 1, Rec by latest item: PR@20: 0.005584422011084555|REC@20: 0.03970387366588802|NDCG@20: 0.0038871441991331374\n",
      "Epoch 1, Rec by 10 latest items: PR@20: 0.005574524940617414|REC@20: 0.039169891650685476|NDCG@20: 0.003736355034419339\n"
     ]
    }
   ],
   "source": [
    "train(dataset, args)"
   ]
  },
  {
   "cell_type": "code",
   "execution_count": null,
   "id": "be65e77a",
   "metadata": {},
   "outputs": [],
   "source": []
  }
 ],
 "metadata": {
  "kernelspec": {
   "display_name": "Python 3 (ipykernel)",
   "language": "python",
   "name": "python3"
  },
  "language_info": {
   "codemirror_mode": {
    "name": "ipython",
    "version": 3
   },
   "file_extension": ".py",
   "mimetype": "text/x-python",
   "name": "python",
   "nbconvert_exporter": "python",
   "pygments_lexer": "ipython3",
   "version": "3.9.2"
  }
 },
 "nbformat": 4,
 "nbformat_minor": 5
}
