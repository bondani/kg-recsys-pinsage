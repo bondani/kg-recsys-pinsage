{
 "cells": [
  {
   "cell_type": "code",
   "execution_count": 1,
   "id": "8cb8db04",
   "metadata": {
    "scrolled": true
   },
   "outputs": [
    {
     "name": "stdout",
     "output_type": "stream",
     "text": [
      "Start category\n",
      "Start tokenize, n_texts: 2484\n",
      "End tokenize\n"
     ]
    },
    {
     "name": "stderr",
     "output_type": "stream",
     "text": [
      "Some weights of the model checkpoint at bert-base-uncased were not used when initializing BertModel: ['cls.seq_relationship.weight', 'cls.predictions.decoder.weight', 'cls.predictions.bias', 'cls.predictions.transform.LayerNorm.weight', 'cls.predictions.transform.LayerNorm.bias', 'cls.seq_relationship.bias', 'cls.predictions.transform.dense.bias', 'cls.predictions.transform.dense.weight']\n",
      "- This IS expected if you are initializing BertModel from the checkpoint of a model trained on another task or with another architecture (e.g. initializing a BertForSequenceClassification model from a BertForPreTraining model).\n",
      "- This IS NOT expected if you are initializing BertModel from the checkpoint of a model that you expect to be exactly identical (initializing a BertForSequenceClassification model from a BertForSequenceClassification model).\n",
      "20it [00:04,  4.71it/s]\n"
     ]
    },
    {
     "name": "stdout",
     "output_type": "stream",
     "text": [
      "End category\n",
      "Start title\n",
      "Start tokenize, n_texts: 10745\n",
      "End tokenize\n"
     ]
    },
    {
     "name": "stderr",
     "output_type": "stream",
     "text": [
      "Some weights of the model checkpoint at bert-base-uncased were not used when initializing BertModel: ['cls.seq_relationship.weight', 'cls.predictions.decoder.weight', 'cls.predictions.bias', 'cls.predictions.transform.LayerNorm.weight', 'cls.predictions.transform.LayerNorm.bias', 'cls.seq_relationship.bias', 'cls.predictions.transform.dense.bias', 'cls.predictions.transform.dense.weight']\n",
      "- This IS expected if you are initializing BertModel from the checkpoint of a model trained on another task or with another architecture (e.g. initializing a BertForSequenceClassification model from a BertForPreTraining model).\n",
      "- This IS NOT expected if you are initializing BertModel from the checkpoint of a model that you expect to be exactly identical (initializing a BertForSequenceClassification model from a BertForSequenceClassification model).\n",
      "84it [00:14,  5.97it/s]\n"
     ]
    },
    {
     "name": "stdout",
     "output_type": "stream",
     "text": [
      "End title\n"
     ]
    },
    {
     "name": "stderr",
     "output_type": "stream",
     "text": [
      "Reading graph: 100%|████████████████████| 544758/544758 [00:00<00:00, 2417295.26it/s]\n",
      "Training: 100%|█████████████████████████| 5111000/5111000 [00:58<00:00, 87699.87it/s]\n",
      "Reading graph: 100%|████████████████████| 404439/404439 [00:00<00:00, 2487546.60it/s]\n",
      "Training: 100%|█████████████████████████| 5837000/5837000 [01:05<00:00, 88799.40it/s]\n",
      "/media/joel/DE18449A184473951/projects/nastya/data_utils.py:37: UserWarning: `meta` is not specified, inferred from partial data. Please provide `meta` if the result is unexpected.\n",
      "  Before: .apply(func)\n",
      "  After:  .apply(func, meta={'x': 'f8', 'y': 'f8'}) for dataframe result\n",
      "  or:     .apply(func, meta=('x', 'f8'))            for series result\n",
      "  df = df.groupby(user, group_keys=False).apply(train_test_split).compute(scheduler='processes').sort_index()\n"
     ]
    },
    {
     "name": "stdout",
     "output_type": "stream",
     "text": [
      "            reviewerID        asin  unixReviewTime  overall  train_mask  \\\n",
      "210919  A1HP7NVNPFMA4N  B00L4KVO78      1397520000      5.0        True   \n",
      "48676   A1HP7NVNPFMA4N  B000B8J7K0      1408147200      3.0        True   \n",
      "32850   A1HP7NVNPFMA4N  B0000ALFCI      1410048000      2.0        True   \n",
      "86768   A1HP7NVNPFMA4N  B00178630A      1423094400      5.0        True   \n",
      "99703   A1HP7NVNPFMA4N  B00178630A      1423094400      5.0        True   \n",
      "168577  A1HP7NVNPFMA4N  B00AYABWYE      1445040000      3.0        True   \n",
      "156678  A1HP7NVNPFMA4N  B006JKASAC      1445040000      5.0       False   \n",
      "152117  A1HP7NVNPFMA4N  B005EZ5GNW      1445040000      5.0        True   \n",
      "152072  A1HP7NVNPFMA4N  B005EYRAUK      1445040000      1.0        True   \n",
      "148756  A1HP7NVNPFMA4N  B0053B5RGI      1445040000      5.0        True   \n",
      "140208  A1HP7NVNPFMA4N  B004X56PWK      1445040000      5.0        True   \n",
      "132716  A1HP7NVNPFMA4N  B003YLWJLA      1445040000      5.0       False   \n",
      "123328  A1HP7NVNPFMA4N  B002GEKIOG      1445040000      5.0       False   \n",
      "0       A1HP7NVNPFMA4N  0700026657      1445040000      5.0        True   \n",
      "176067  A1HP7NVNPFMA4N  B00CH923NE      1445040000      5.0       False   \n",
      "116886  A1HP7NVNPFMA4N  B00282WKEW      1445040000      5.0       False   \n",
      "101764  A1HP7NVNPFMA4N  B0019R4VCQ      1445040000      5.0        True   \n",
      "101175  A1HP7NVNPFMA4N  B0018QOWEU      1445040000      5.0       False   \n",
      "67292   A1HP7NVNPFMA4N  B000P5BSUQ      1445040000      5.0       False   \n",
      "53711   A1HP7NVNPFMA4N  B000FQ9QVI      1445040000      5.0        True   \n",
      "45074   A1HP7NVNPFMA4N  B0009VXBAQ      1445040000      5.0        True   \n",
      "121398  A1HP7NVNPFMA4N  B002BXKJA0      1445040000      5.0       False   \n",
      "117689  A1HP7NVNPFMA4N  B002AB7TX8      1445040000      5.0       False   \n",
      "\n",
      "        val_mask  test_mask  \n",
      "210919     False      False  \n",
      "48676      False      False  \n",
      "32850      False      False  \n",
      "86768      False      False  \n",
      "99703      False      False  \n",
      "168577     False      False  \n",
      "156678     False       True  \n",
      "152117     False      False  \n",
      "152072     False      False  \n",
      "148756     False      False  \n",
      "140208     False      False  \n",
      "132716      True      False  \n",
      "123328      True      False  \n",
      "0          False      False  \n",
      "176067     False       True  \n",
      "116886     False       True  \n",
      "101764     False      False  \n",
      "101175      True      False  \n",
      "67292      False       True  \n",
      "53711      False      False  \n",
      "45074      False      False  \n",
      "121398      True      False  \n",
      "117689     False       True  \n"
     ]
    },
    {
     "name": "stderr",
     "output_type": "stream",
     "text": [
      "/media/joel/DE18449A184473951/projects/nastya/venv/lib/python3.9/site-packages/dgl/subgraph.py:288: DGLWarning: Key word argument preserve_nodes is deprecated. Use relabel_nodes instead.\n",
      "  dgl_warning(\n"
     ]
    }
   ],
   "source": [
    "%run process_amazon.py data/amazon/amazon.csv data/amazon/meta_amazon.csv amazon.pkl\n"
   ]
  },
  {
   "cell_type": "code",
   "execution_count": null,
   "id": "6dd28f84",
   "metadata": {},
   "outputs": [],
   "source": []
  }
 ],
 "metadata": {
  "kernelspec": {
   "display_name": "Python 3 (ipykernel)",
   "language": "python",
   "name": "python3"
  },
  "language_info": {
   "codemirror_mode": {
    "name": "ipython",
    "version": 3
   },
   "file_extension": ".py",
   "mimetype": "text/x-python",
   "name": "python",
   "nbconvert_exporter": "python",
   "pygments_lexer": "ipython3",
   "version": "3.9.2"
  }
 },
 "nbformat": 4,
 "nbformat_minor": 5
}
